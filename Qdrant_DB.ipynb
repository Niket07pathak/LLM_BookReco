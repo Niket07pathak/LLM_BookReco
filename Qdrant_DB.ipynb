{
 "cells": [
  {
   "cell_type": "code",
   "execution_count": 1,
   "id": "f9ee8bff",
   "metadata": {},
   "outputs": [
    {
     "name": "stdout",
     "output_type": "stream",
     "text": [
      "Original: 5197 | After clean+dedup: 5197\n"
     ]
    }
   ],
   "source": [
    "from langchain_core.documents import Document\n",
    "\n",
    "docs = []\n",
    "with open(\"tag_description.txt\", encoding=\"utf-8\") as f:\n",
    "    for line in f:\n",
    "        docs.append(Document(page_content=line.rstrip(\"\\n\")))\n",
    "\n",
    "texts = [d.page_content.strip() for d in docs if getattr(d, \"page_content\", None)]\n",
    "seen, dedup_texts = set(), []\n",
    "for t in texts:\n",
    "    if t and t not in seen:\n",
    "        dedup_texts.append(t)\n",
    "        seen.add(t)\n",
    "\n",
    "print(f\"Original: {len(docs)} | After clean+dedup: {len(dedup_texts)}\")\n"
   ]
  },
  {
   "cell_type": "code",
   "execution_count": 4,
   "id": "43920fd9",
   "metadata": {},
   "outputs": [
    {
     "data": {
      "text/plain": [
       "'\"9780060099459 It\\'s Christmas Eve, and Amelia Bedelia has to get the Rogers house ready for a visit from Aunt Myra. But with Amelia Bedelia in charge, this Christmas will be one of the funniest ever!\"'"
      ]
     },
     "execution_count": 4,
     "metadata": {},
     "output_type": "execute_result"
    }
   ],
   "source": [
    "dedup_texts[100]"
   ]
  },
  {
   "cell_type": "code",
   "execution_count": 5,
   "id": "f1734275",
   "metadata": {},
   "outputs": [],
   "source": [
    "import re\n",
    "\n",
    "def parse_isbn_line(line: str):\n",
    "    \"\"\"Return (isbn, text). Assumes each line starts with a valid ISBN-13 (13 digits).\"\"\"\n",
    "    line = line.strip().lstrip('\"').rstrip('\"')   # strip spaces + optional quotes\n",
    "    parts = line.split(maxsplit=1)\n",
    "    if not parts:\n",
    "        return None, \"\"\n",
    "    \n",
    "    isbn = parts[0]\n",
    "    if not re.fullmatch(r\"\\d{13}\", isbn):\n",
    "        raise ValueError(f\"Line does not start with a valid ISBN-13: {line}\")\n",
    "    \n",
    "    text = parts[1].strip() if len(parts) > 1 else \"\"\n",
    "    return isbn, text\n"
   ]
  },
  {
   "cell_type": "code",
   "execution_count": 6,
   "id": "8868928a",
   "metadata": {},
   "outputs": [
    {
     "name": "stdout",
     "output_type": "stream",
     "text": [
      "Parsed 5197 rows with text; 5197 have ISBNs\n"
     ]
    }
   ],
   "source": [
    "records = []\n",
    "for line in dedup_texts:\n",
    "    isbn, body = parse_isbn_line(line)\n",
    "    if body:\n",
    "        records.append({\"isbn\": isbn, \"text\": body})\n",
    "\n",
    "print(f\"Parsed {len(records)} rows with text; {sum(1 for r in records if r['isbn'])} have ISBNs\")\n"
   ]
  },
  {
   "cell_type": "code",
   "execution_count": 7,
   "id": "94c0882e",
   "metadata": {},
   "outputs": [
    {
     "name": "stderr",
     "output_type": "stream",
     "text": [
      "C:\\Users\\n07pa\\AppData\\Local\\Temp\\ipykernel_32132\\2673490613.py:4: LangChainDeprecationWarning: The class `HuggingFaceEmbeddings` was deprecated in LangChain 0.2.2 and will be removed in 1.0. An updated version of the class exists in the :class:`~langchain-huggingface package and should be used instead. To use it run `pip install -U :class:`~langchain-huggingface` and import as `from :class:`~langchain_huggingface import HuggingFaceEmbeddings``.\n",
      "  emb = HuggingFaceEmbeddings(\n",
      "c:\\Users\\n07pa\\Projects_folder\\book_recommendation\\venv\\Lib\\site-packages\\tqdm\\auto.py:21: TqdmWarning: IProgress not found. Please update jupyter and ipywidgets. See https://ipywidgets.readthedocs.io/en/stable/user_install.html\n",
      "  from .autonotebook import tqdm as notebook_tqdm\n"
     ]
    }
   ],
   "source": [
    "from langchain_community.embeddings import HuggingFaceEmbeddings\n",
    "\n",
    "MODEL_NAME = \"sentence-transformers/all-MiniLM-L6-v2\"\n",
    "emb = HuggingFaceEmbeddings(\n",
    "    model_name=MODEL_NAME,\n",
    "    model_kwargs={\"device\": \"cpu\"},\n",
    "    encode_kwargs={\"normalize_embeddings\": True, \"batch_size\": 64}\n",
    ")\n"
   ]
  },
  {
   "cell_type": "code",
   "execution_count": 33,
   "id": "9b82fc5b",
   "metadata": {},
   "outputs": [
    {
     "data": {
      "text/plain": [
       "{'isbn': '9780002005883',\n",
       " 'text': 'A NOVEL THAT READERS and critics have been eagerly anticipating for over a decade, Gilead is an astonishingly imagined story of remarkable lives. John Ames is a preacher, the son of a preacher and the grandson (both maternal and paternal) of preachers. It’s 1956 in Gilead, Iowa, towards the end of the Reverend Ames’s life, and he is absorbed in recording his family’s story, a legacy for the young son he will never see grow up. Haunted by his grandfather’s presence, John tells of the rift between his grandfather and his father: the elder, an angry visionary who fought for the abolitionist cause, and his son, an ardent pacifist. He is troubled, too, by his prodigal namesake, Jack (John Ames) Boughton, his best friend’s lost son who returns to Gilead searching for forgiveness and redemption. Told in John Ames’s joyous, rambling voice that finds beauty, humour and truth in the smallest of life’s details, Gilead is a song of celebration and acceptance of the best and the worst the world has to offer. At its heart is a tale of the sacred bonds between fathers and sons, pitch-perfect in style and story, set to dazzle critics and readers alike.'}"
      ]
     },
     "execution_count": 33,
     "metadata": {},
     "output_type": "execute_result"
    }
   ],
   "source": [
    "records[0]"
   ]
  },
  {
   "cell_type": "code",
   "execution_count": 32,
   "id": "3a2b9539",
   "metadata": {},
   "outputs": [],
   "source": [
    "records_df = pd.DataFrame(records)"
   ]
  },
  {
   "cell_type": "code",
   "execution_count": 30,
   "id": "9fa774c6",
   "metadata": {},
   "outputs": [
    {
     "data": {
      "text/plain": [
       "Index(['isbn13', 'isbn10', 'title', 'authors', 'categories', 'thumbnail',\n",
       "       'description', 'published_year', 'average_rating', 'num_pages',\n",
       "       'ratings_count', 'title_subtitle', 'tag_description',\n",
       "       'simple_categories', 'anger', 'disgust', 'fear', 'joy', 'neutral',\n",
       "       'sadness', 'surprise'],\n",
       "      dtype='object')"
      ]
     },
     "execution_count": 30,
     "metadata": {},
     "output_type": "execute_result"
    }
   ],
   "source": [
    "import pandas as pd\n",
    "books = pd.read_csv('books_data_classified_with_emotions.csv')\n",
    "books.columns"
   ]
  },
  {
   "cell_type": "code",
   "execution_count": 36,
   "id": "79a756f8",
   "metadata": {},
   "outputs": [],
   "source": [
    "# 1) Normalize both keys to comparable strings (digits only)\n",
    "def norm_isbn(s):\n",
    "    return (s.astype(\"string\")                # robust to ints/NaN\n",
    "             .str.replace(r\"[^0-9]\", \"\", regex=True))\n",
    "\n",
    "records_df[\"isbn_key\"]  = norm_isbn(records_df[\"isbn\"])\n",
    "books[\"isbn13_key\"]     = norm_isbn(books[\"isbn13\"])\n",
    "\n",
    "books[\"isbn13_key\"]  = books[\"isbn13_key\"].str.zfill(13)\n",
    "records_df[\"isbn_key\"] = records_df[\"isbn_key\"].str.zfill(13)\n",
    "\n",
    "cols = ['isbn13','authors','thumbnail','published_year',\n",
    "        'title_subtitle','simple_categories','anger','disgust',\n",
    "        'fear','joy','neutral','sadness','surprise']\n",
    "\n",
    "records_df = records_df.merge(\n",
    "    books[cols + [\"isbn13_key\"]],\n",
    "    left_on=\"isbn_key\",\n",
    "    right_on=\"isbn13_key\",\n",
    "    how=\"left\"\n",
    ")\n",
    "\n",
    "# 3) Optional cleanup\n",
    "records_df.drop(columns=[\"isbn13_key\", \"isbn_key\"], inplace=True)\n"
   ]
  },
  {
   "cell_type": "code",
   "execution_count": 39,
   "id": "c45420f4",
   "metadata": {},
   "outputs": [],
   "source": [
    "records_df.drop(columns=[\"isbn13\"], inplace=True)\n"
   ]
  },
  {
   "cell_type": "code",
   "execution_count": 41,
   "id": "baec164e",
   "metadata": {},
   "outputs": [
    {
     "data": {
      "text/html": [
       "<div>\n",
       "<style scoped>\n",
       "    .dataframe tbody tr th:only-of-type {\n",
       "        vertical-align: middle;\n",
       "    }\n",
       "\n",
       "    .dataframe tbody tr th {\n",
       "        vertical-align: top;\n",
       "    }\n",
       "\n",
       "    .dataframe thead th {\n",
       "        text-align: right;\n",
       "    }\n",
       "</style>\n",
       "<table border=\"1\" class=\"dataframe\">\n",
       "  <thead>\n",
       "    <tr style=\"text-align: right;\">\n",
       "      <th></th>\n",
       "      <th>isbn</th>\n",
       "      <th>text</th>\n",
       "      <th>authors</th>\n",
       "      <th>thumbnail</th>\n",
       "      <th>published_year</th>\n",
       "      <th>title_subtitle</th>\n",
       "      <th>simple_categories</th>\n",
       "      <th>anger</th>\n",
       "      <th>disgust</th>\n",
       "      <th>fear</th>\n",
       "      <th>joy</th>\n",
       "      <th>neutral</th>\n",
       "      <th>sadness</th>\n",
       "      <th>surprise</th>\n",
       "    </tr>\n",
       "  </thead>\n",
       "  <tbody>\n",
       "    <tr>\n",
       "      <th>0</th>\n",
       "      <td>9780002005883</td>\n",
       "      <td>A NOVEL THAT READERS and critics have been eag...</td>\n",
       "      <td>Marilynne Robinson</td>\n",
       "      <td>http://books.google.com/books/content?id=KQZCP...</td>\n",
       "      <td>2004.0</td>\n",
       "      <td>Gilead</td>\n",
       "      <td>Fiction</td>\n",
       "      <td>0.064134</td>\n",
       "      <td>0.273591</td>\n",
       "      <td>0.928168</td>\n",
       "      <td>0.932798</td>\n",
       "      <td>0.646216</td>\n",
       "      <td>0.967158</td>\n",
       "      <td>0.729602</td>\n",
       "    </tr>\n",
       "    <tr>\n",
       "      <th>1</th>\n",
       "      <td>9780002261982</td>\n",
       "      <td>A new 'Christie for Christmas' -- a full-lengt...</td>\n",
       "      <td>Charles Osborne;Agatha Christie</td>\n",
       "      <td>http://books.google.com/books/content?id=gA5GP...</td>\n",
       "      <td>2000.0</td>\n",
       "      <td>Spider's Web: A Novel</td>\n",
       "      <td>Fiction</td>\n",
       "      <td>0.612619</td>\n",
       "      <td>0.348284</td>\n",
       "      <td>0.942528</td>\n",
       "      <td>0.704422</td>\n",
       "      <td>0.887940</td>\n",
       "      <td>0.111690</td>\n",
       "      <td>0.252546</td>\n",
       "    </tr>\n",
       "  </tbody>\n",
       "</table>\n",
       "</div>"
      ],
      "text/plain": [
       "            isbn                                               text  \\\n",
       "0  9780002005883  A NOVEL THAT READERS and critics have been eag...   \n",
       "1  9780002261982  A new 'Christie for Christmas' -- a full-lengt...   \n",
       "\n",
       "                           authors  \\\n",
       "0               Marilynne Robinson   \n",
       "1  Charles Osborne;Agatha Christie   \n",
       "\n",
       "                                           thumbnail  published_year  \\\n",
       "0  http://books.google.com/books/content?id=KQZCP...          2004.0   \n",
       "1  http://books.google.com/books/content?id=gA5GP...          2000.0   \n",
       "\n",
       "          title_subtitle simple_categories     anger   disgust      fear  \\\n",
       "0                 Gilead           Fiction  0.064134  0.273591  0.928168   \n",
       "1  Spider's Web: A Novel           Fiction  0.612619  0.348284  0.942528   \n",
       "\n",
       "        joy   neutral   sadness  surprise  \n",
       "0  0.932798  0.646216  0.967158  0.729602  \n",
       "1  0.704422  0.887940  0.111690  0.252546  "
      ]
     },
     "execution_count": 41,
     "metadata": {},
     "output_type": "execute_result"
    }
   ],
   "source": [
    "records_df.head(2)\n"
   ]
  },
  {
   "cell_type": "code",
   "execution_count": 42,
   "id": "e8b0574e",
   "metadata": {},
   "outputs": [],
   "source": [
    "records_dict = records_df.to_dict(orient=\"records\")"
   ]
  },
  {
   "cell_type": "code",
   "execution_count": 44,
   "id": "801b5554",
   "metadata": {},
   "outputs": [
    {
     "data": {
      "text/plain": [
       "Index(['isbn', 'text', 'authors', 'thumbnail', 'published_year',\n",
       "       'title_subtitle', 'simple_categories', 'anger', 'disgust', 'fear',\n",
       "       'joy', 'neutral', 'sadness', 'surprise'],\n",
       "      dtype='object')"
      ]
     },
     "execution_count": 44,
     "metadata": {},
     "output_type": "execute_result"
    }
   ],
   "source": [
    "records_df.columns"
   ]
  },
  {
   "cell_type": "code",
   "execution_count": 43,
   "id": "bc864056",
   "metadata": {},
   "outputs": [
    {
     "data": {
      "text/plain": [
       "{'isbn': '9780002005883',\n",
       " 'text': 'A NOVEL THAT READERS and critics have been eagerly anticipating for over a decade, Gilead is an astonishingly imagined story of remarkable lives. John Ames is a preacher, the son of a preacher and the grandson (both maternal and paternal) of preachers. It’s 1956 in Gilead, Iowa, towards the end of the Reverend Ames’s life, and he is absorbed in recording his family’s story, a legacy for the young son he will never see grow up. Haunted by his grandfather’s presence, John tells of the rift between his grandfather and his father: the elder, an angry visionary who fought for the abolitionist cause, and his son, an ardent pacifist. He is troubled, too, by his prodigal namesake, Jack (John Ames) Boughton, his best friend’s lost son who returns to Gilead searching for forgiveness and redemption. Told in John Ames’s joyous, rambling voice that finds beauty, humour and truth in the smallest of life’s details, Gilead is a song of celebration and acceptance of the best and the worst the world has to offer. At its heart is a tale of the sacred bonds between fathers and sons, pitch-perfect in style and story, set to dazzle critics and readers alike.',\n",
       " 'authors': 'Marilynne Robinson',\n",
       " 'thumbnail': 'http://books.google.com/books/content?id=KQZCPgAACAAJ&printsec=frontcover&img=1&zoom=1&source=gbs_api',\n",
       " 'published_year': 2004.0,\n",
       " 'title_subtitle': 'Gilead',\n",
       " 'simple_categories': 'Fiction',\n",
       " 'anger': 0.0641336366534233,\n",
       " 'disgust': 0.2735911309719085,\n",
       " 'fear': 0.9281682968139648,\n",
       " 'joy': 0.932798147201538,\n",
       " 'neutral': 0.6462159156799316,\n",
       " 'sadness': 0.967157542705536,\n",
       " 'surprise': 0.7296021580696106}"
      ]
     },
     "execution_count": 43,
     "metadata": {},
     "output_type": "execute_result"
    }
   ],
   "source": [
    "records_dict[0]"
   ]
  },
  {
   "cell_type": "code",
   "execution_count": null,
   "id": "21a5ae23",
   "metadata": {},
   "outputs": [
    {
     "data": {
      "text/plain": [
       "True"
      ]
     },
     "execution_count": 57,
     "metadata": {},
     "output_type": "execute_result"
    }
   ],
   "source": [
    "from dotenv import load_dotenv\n",
    "import os\n",
    "\n",
    "load_dotenv()"
   ]
  },
  {
   "cell_type": "code",
   "execution_count": null,
   "id": "33303676",
   "metadata": {},
   "outputs": [],
   "source": [
    "records"
   ]
  },
  {
   "cell_type": "code",
   "execution_count": 45,
   "id": "ff1f7c08",
   "metadata": {},
   "outputs": [],
   "source": [
    "from langchain_core.documents import Document\n",
    "\n",
    "docs = [\n",
    "    Document(\n",
    "        page_content=r[\"text\"],\n",
    "        metadata={k: v for k, v in r.items() if k != \"text\"}\n",
    "    )\n",
    "    for _, r in records_df.iterrows()\n",
    "]\n"
   ]
  },
  {
   "cell_type": "code",
   "execution_count": 53,
   "id": "7c02d06c",
   "metadata": {},
   "outputs": [
    {
     "data": {
      "text/plain": [
       "Document(metadata={'isbn': '9780002005883', 'authors': 'Marilynne Robinson', 'thumbnail': 'http://books.google.com/books/content?id=KQZCPgAACAAJ&printsec=frontcover&img=1&zoom=1&source=gbs_api', 'published_year': 2004.0, 'title_subtitle': 'Gilead', 'simple_categories': 'Fiction', 'anger': 0.0641336366534233, 'disgust': 0.2735911309719085, 'fear': 0.9281682968139648, 'joy': 0.932798147201538, 'neutral': 0.6462159156799316, 'sadness': 0.967157542705536, 'surprise': 0.7296021580696106}, page_content='A NOVEL THAT READERS and critics have been eagerly anticipating for over a decade, Gilead is an astonishingly imagined story of remarkable lives. John Ames is a preacher, the son of a preacher and the grandson (both maternal and paternal) of preachers. It’s 1956 in Gilead, Iowa, towards the end of the Reverend Ames’s life, and he is absorbed in recording his family’s story, a legacy for the young son he will never see grow up. Haunted by his grandfather’s presence, John tells of the rift between his grandfather and his father: the elder, an angry visionary who fought for the abolitionist cause, and his son, an ardent pacifist. He is troubled, too, by his prodigal namesake, Jack (John Ames) Boughton, his best friend’s lost son who returns to Gilead searching for forgiveness and redemption. Told in John Ames’s joyous, rambling voice that finds beauty, humour and truth in the smallest of life’s details, Gilead is a song of celebration and acceptance of the best and the worst the world has to offer. At its heart is a tale of the sacred bonds between fathers and sons, pitch-perfect in style and story, set to dazzle critics and readers alike.')"
      ]
     },
     "execution_count": 53,
     "metadata": {},
     "output_type": "execute_result"
    }
   ],
   "source": [
    "docs[0]"
   ]
  },
  {
   "cell_type": "code",
   "execution_count": 63,
   "id": "c0563363",
   "metadata": {},
   "outputs": [],
   "source": [
    "from qdrant_client import QdrantClient\n",
    "from langchain_community.vectorstores import Qdrant\n",
    "\n",
    "\n",
    "vectorstore = Qdrant.from_documents(\n",
    "    documents=docs,\n",
    "    embedding=emb,\n",
    "    url=Qdrant_URL,\n",
    "    api_key=Qdrant_API_KEY,\n",
    "    collection_name=Qdrant_name,\n",
    ")\n"
   ]
  },
  {
   "cell_type": "code",
   "execution_count": 64,
   "id": "02747926",
   "metadata": {},
   "outputs": [
    {
     "name": "stdout",
     "output_type": "stream",
     "text": [
      "9781581345285 A prayerful pastor and a skeptical reporter compare notes and find themselves fighting a plot to sub\n",
      "9780374299194 The author describes growing up in a family of all boys in Webster Groves, Missouri, reflecting on s\n",
      "9780883689448 Recapture God's glory with twelve compelling spiritual biographies of some of the most powerful mini\n",
      "9780310252191 Tested strategies for pastors and churches that want to be somewhere else in the postmodern world an\n",
      "9780787981297 Churches have tried all kinds of ways to attract new and younger members - revised vision statements\n"
     ]
    }
   ],
   "source": [
    "docs = vectorstore.similarity_search(\"preacher in Iowa, multi-generational\", k=5)\n",
    "for d in docs:\n",
    "    print(d.metadata.get(\"isbn\"), d.page_content[:100])\n"
   ]
  },
  {
   "cell_type": "code",
   "execution_count": 65,
   "id": "66c0016e",
   "metadata": {},
   "outputs": [
    {
     "data": {
      "text/plain": [
       "[Document(metadata={'isbn': '9781581345285', 'authors': 'Frank E. Peretti', 'thumbnail': 'http://books.google.com/books/content?id=eFBOvBvKqE4C&printsec=frontcover&img=1&zoom=1&source=gbs_api', 'published_year': 2003.0, 'title_subtitle': 'This Present Darkness', 'simple_categories': 'Fiction', 'anger': 0.0641336366534233, 'disgust': 0.1040067374706268, 'fear': 0.9730560183525084, 'joy': 0.069264568388462, 'neutral': 0.549476683139801, 'sadness': 0.1116901934146881, 'surprise': 0.0787654668092727, '_id': 'c80c50ba-b229-4c01-aa9f-73f52f97c035', '_collection_name': 'Book-Recommendar'}, page_content='A prayerful pastor and a skeptical reporter compare notes and find themselves fighting a plot to subjugate the human race. A gripping look into the invisible spiritual warfare around us and the power of prayer.'),\n",
       " Document(metadata={'isbn': '9780374299194', 'authors': 'Jonathan Franzen', 'thumbnail': 'http://books.google.com/books/content?id=Z2vOAwAAQBAJ&printsec=frontcover&img=1&zoom=1&source=gbs_api', 'published_year': 2006.0, 'title_subtitle': 'The Discomfort Zone: A Personal History', 'simple_categories': 'Nonfiction', 'anger': 0.0641336366534233, 'disgust': 0.1040067374706268, 'fear': 0.0513628385961055, 'joy': 0.0604095570743083, 'neutral': 0.8805540800094604, 'sadness': 0.1116901934146881, 'surprise': 0.0787654668092727, '_id': 'b2693fb1-ed92-478e-b2b7-1a3ff953d86e', '_collection_name': 'Book-Recommendar'}, page_content='The author describes growing up in a family of all boys in Webster Groves, Missouri, reflecting on such topics as the dynamics of a Christian youth fellowship, his role as the school prankster, his marriage, and the life lessons he has learned from birds.'),\n",
       " Document(metadata={'isbn': '9780883689448', 'authors': 'Roberts Liardon', 'thumbnail': 'http://books.google.com/books/content?id=jzUDAAAACAAJ&printsec=frontcover&img=1&zoom=1&source=gbs_api', 'published_year': 2003.0, 'title_subtitle': \"God's Generals: Why They Succeeded and why Some Failed\", 'simple_categories': 'Nonfiction', 'anger': 0.0686737969517707, 'disgust': 0.1040067374706268, 'fear': 0.0513628385961055, 'joy': 0.3898639678955078, 'neutral': 0.8608919978141785, 'sadness': 0.1116901934146881, 'surprise': 0.0787654668092727, '_id': '3a96c637-b4e3-46e8-b1d4-fe57033eff30', '_collection_name': 'Book-Recommendar'}, page_content=\"Recapture God's glory with twelve compelling spiritual biographies of some of the most powerful ministers to ever ignite the fires of revival! Revealing photographs help chronicle the lives of Aimee Sempte McPherson Smith Wigglesworth, Kathryn Kuhlman, William Seymour, and eight others. Draw crucial life applications for yourself from the lives of these mighty warriors.\"),\n",
       " Document(metadata={'isbn': '9780310252191', 'authors': 'Brian D. McLaren', 'thumbnail': 'http://books.google.com/books/content?id=973kEQV9ruUC&printsec=frontcover&img=1&zoom=1&source=gbs_api', 'published_year': 2003.0, 'title_subtitle': 'The Church on the Other Side: Doing Ministry in the Postmodern Matrix', 'simple_categories': 'Nonfiction', 'anger': 0.0641336366534233, 'disgust': 0.1040067374706268, 'fear': 0.0995877087116241, 'joy': 0.0621892064809799, 'neutral': 0.9672977328300476, 'sadness': 0.1116901934146881, 'surprise': 0.0962759852409362, '_id': 'f967da8e-93b3-48b4-b6c1-694f1f3c67a3', '_collection_name': 'Book-Recommendar'}, page_content='Tested strategies for pastors and churches that want to be somewhere else in the postmodern world and need reliable and practical help to get there. Now revised and expanded. Formerly titled Reinventing Your Church.'),\n",
       " Document(metadata={'isbn': '9780787981297', 'authors': 'Neil Cole', 'thumbnail': 'http://books.google.com/books/content?id=YIFSl1GH5gAC&printsec=frontcover&img=1&zoom=1&edge=curl&source=gbs_api', 'published_year': 2005.0, 'title_subtitle': 'Organic Church: Growing Faith Where Life Happens', 'simple_categories': 'Nonfiction', 'anger': 0.0641336366534233, 'disgust': 0.1040067374706268, 'fear': 0.0513628385961055, 'joy': 0.2644960880279541, 'neutral': 0.9513749480247498, 'sadness': 0.5606307983398438, 'surprise': 0.0787654668092727, '_id': '796a03d3-2a69-4921-934f-1ba609b606e1', '_collection_name': 'Book-Recommendar'}, page_content=\"Churches have tried all kinds of ways to attract new and younger members - revised vision statements, hipper worship, contemporary music, livelier sermons, bigger and better auditoriums. But there are still so many people who aren't being reached, who don't want to come to church. And the truth is that attendance at church on Sundays does not necessarily transform lives; God's presence in our hearts is what changes us. Leaders and laypeople everywhere are realizing that they need new and more powerful ways to help them spread God's Word. According to international church starter and pastor Neil Cole, if we want to connect with young people and those who are not coming to church, we must go where people congregate. Cole shows readers how to plant the seeds of the Kingdom of God in the places where life happens and where culture is formed - restaurants, bars, coffeehouses, parks, locker rooms,and neighborhoods. Organic Church offers a hands-on guide for demystifying this new model of church and shows the practical aspects of implementing it.\")]"
      ]
     },
     "execution_count": 65,
     "metadata": {},
     "output_type": "execute_result"
    }
   ],
   "source": [
    "docs"
   ]
  },
  {
   "cell_type": "code",
   "execution_count": null,
   "id": "625de67c",
   "metadata": {},
   "outputs": [],
   "source": []
  }
 ],
 "metadata": {
  "kernelspec": {
   "display_name": "venv",
   "language": "python",
   "name": "python3"
  },
  "language_info": {
   "codemirror_mode": {
    "name": "ipython",
    "version": 3
   },
   "file_extension": ".py",
   "mimetype": "text/x-python",
   "name": "python",
   "nbconvert_exporter": "python",
   "pygments_lexer": "ipython3",
   "version": "3.13.2"
  }
 },
 "nbformat": 4,
 "nbformat_minor": 5
}
